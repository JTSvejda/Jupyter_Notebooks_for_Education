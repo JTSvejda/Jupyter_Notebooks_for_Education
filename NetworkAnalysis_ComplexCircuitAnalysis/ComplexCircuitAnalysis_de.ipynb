{
 "cells": [
  {
   "cell_type": "code",
   "execution_count": 1,
   "metadata": {},
   "outputs": [],
   "source": [
    "# load some necessary libraries\n",
    "import numpy as np\n",
    "import matplotlib.pyplot as plt\n",
    "from ipywidgets import interactive, fixed, FloatSlider\n",
    "from plot_def import *"
   ]
  },
  {
   "attachments": {
    "network_01.png": {
     "image/png": "[encoded data removed]"
    }
   },
   "cell_type": "markdown",
   "metadata": {},
   "source": [
    "# Komplexe Wechselstromrechnung an einem Beispiel\n",
    "\n",
    "Als einfaches Beispiel wird im Folgenden das hier gezeigte Netzwerk betrachtet. Die Spannungsquelle regt das Netzwerk mit einer Cosiunusförmigen Spannung an, welche eine Spitzenspannung von 1.5V und einen Nullphasenwinkel (Phasenwinkel zum Zeitpunkt t=0) von 30° hat. Die Betriebsfrequenz liegt bei f=0.2Hz und die Werte der Bauteile sind mit R=0.5Ω, C=1F und L=0.5H gegeben.\n",
    "\n",
    "![network_01.png](attachment:network_01.png)"
   ]
  },
  {
   "cell_type": "code",
   "execution_count": 2,
   "metadata": {},
   "outputs": [],
   "source": [
    "R  = 0.5\n",
    "C  = 1\n",
    "L  = 0.5\n",
    "f  = 0.2\n",
    "ω  = 2*np.pi*f\n",
    "u0 = 1.5\n",
    "φ0 = 30"
   ]
  },
  {
   "cell_type": "markdown",
   "metadata": {},
   "source": [
    "## Berechnung des Netzwerks im Zeitbereich\n",
    "\n",
    "Abgeleitet aus den gegebenen Werten folgt als mathematische Beschreibung der Versorgungsspannung\n",
    "\n",
    "$$ u_0(t) = 1.5\\text{V} \\cdot \\cos{\\left( \\omega t + \\varphi_0\\right)} $$\n",
    "\n",
    "wobei $\\omega=2\\pi f$ die Kreisfrequenz und $\\varphi_0 = 30^\\circ$ der Nullphasenwinkel ist.\n",
    "Da die Spule direkt parallel mit der Spannungsquelle verschaltet ist, ist auch die Spannung an der Spule mit\n",
    "\n",
    "$$ u_\\text{L}(t) = u_0(t) = 1.5\\text{V} \\cdot \\cos{\\left( \\omega t + \\varphi_0 \\right)} $$\n",
    "\n",
    "gegeben.\n",
    "Die Gesätzmäßigkeit zwischen Strom und Spannung an einer Sule lautet\n",
    "\n",
    "$$ u(t) = L\\cdot\\frac{\\mathrm{d} i(t)}{\\mathrm{d}t} $$\n",
    "\n",
    "worüber sich für den Strom\n",
    "\n",
    "$$ i(t) = \\frac{1}{L}\\cdot\\int u(t) \\,\\mathrm{d}t = \\frac{1}{L}\\cdot\\frac{1.5\\text{V}}{\\omega} \\sin{\\left( \\omega t + \\varphi_0\\right)} = 2.387\\text{A}\\sin{\\left( \\omega t + \\varphi_0\\right)}$$\n",
    "\n",
    "angeben lässt.\n",
    "Die Integrationskonstante ist hierbei Null, da es keinen Gleichanteil des Stromes geben kann.\n",
    "Der Strom ist durch die Integration nun Sinusförmig, was einer Cosinusfunktion mit 90° ($\\pi/2$) Phasenverschiebung entspricht:\n",
    "\n",
    "$$ i(t) = 2.387\\text{A}\\sin{\\left( \\omega t + \\varphi_0\\right)} = 2.387\\text{A}\\cos{\\left( \\omega t + \\varphi_0 - \\pi/2 \\right)}$$\n",
    "\n",
    "Die Summe der Phasenverschiebungen lässt sich nun als Phasenwinkel $\\varphi_\\text{iL}=30°-90°=-60°$ zusammenfassen.\n",
    "\n",
    "Die Berechnung über diese Integration war vergleichsweise leicht.\n",
    "Im Fall der Serienschaltung ist die Maschengleichung\n",
    "\n",
    "$$ u_0(t) = u_\\text{R}(t) + u_\\text{C}(t)$$\n",
    "\n",
    "zu erfüllen.\n",
    "Mit den Zusammenhägen von Strom und Spannung an Widerstand und Kondensator folgt\n",
    "\n",
    "$$ u_0(t) = R\\cdot i_\\text{CR}(t) + \\frac{1}{C}\\cdot\\int i_\\text{CR}(t) \\,\\mathrm{d}t$$\n",
    "\n",
    "Um nun den Strom $i_\\text{CR}(t)$ anhand dieser Gleichung zu bestimmen, müsste nach diesem die Gleichung aufgelöst werden, was nicht trivial möglich ist.\n",
    "Ein Ansatz wäre für den Strom eine ebenfalls harmonische Zeitabhängigkeit in Form einer Cosinusförmigen Funktion anzunehmen um dann mit diversen Additionstheoremen die Gleichung umzustellen.\n",
    "Dies ist aber nicht notwendig, wenn man sich der komplexen Wechselstromrechnung bedient.\n",
    "\n",
    "## Berechnung des Netzwerks im Bildbereich (Frequenzbereich)\n",
    "\n",
    "Bei der komplexen Wechselstromrechnung bedient man sich der komplexen Zahlen, wodurch sich die Berechnungen deutlich kompfortabler durchführen lassen.\n",
    "\n",
    "### Ein Ausflug in die komplexe Zahlenwelt\n",
    "\n",
    "Grundlegend bestehen die komplexen Zahlen aus einem Real- und Imaginärteil, die über die komplexe Einheit $\\mathrm{j}=\\sqrt{-1}$ miteinander verknüpft sind.\n",
    "Eine komplexe Zahl lässt sich auch über einen Betrag und einen Winkel zur reellen Achse angeben:\n",
    "\n",
    "$$ \\underline{z} = a + \\mathrm{j}b = |\\underline{z}|\\cdot\\mathrm{e}^{\\mathrm{j}\\arg{\\left\\lbrace\\underline{z}\\right\\rbrace}} = \\sqrt{a^2+b^2}\\cdot\\mathrm{e}^{\\mathrm{j}\\,\\mathrm{atan}\\left(\\frac{b}{a}\\right)}$$\n",
    "\n",
    "wobei $|...|$ den Betrag ermittelt und $\\arg{\\{...\\}}$ den Winkel, was sich widerum mit hilfe der Trigonometrie in die Wurzel- und Arcustangesfunktion überführen lässt.\n",
    "Eine komplexe Zahl angegeben mit Betrag $z$ und Winkel $\\alpha$ lässt sich wiederum mit\n",
    "\n",
    "$$ \\underline{z} = z\\,\\mathrm{e}^{\\mathrm{j}\\alpha} = z \\cos{\\alpha} + \\mathrm{j} z \\sin{\\alpha} \\quad\\text{(1)}$$\n",
    "\n",
    "in die Schreibweise nach Real- und Imaginärteil überführen.\n",
    "\n",
    "Multipliziert man eine beliebige komplexe Zahl mit einer Komplexenzahl des Betrages 1, bewegt sich das Ergebnis auf einem Kreis.\n",
    "Eine solche komplexe Zahl mit dem Betrag von 1 und dem Winkel $\\phi$ ist gegeben mit\n",
    "\n",
    "$$ \\underline{z}_1 = \\mathrm{e}^{\\mathrm{j}\\phi} $$\n",
    "\n",
    "Mit dem folgenden interaktiven Bild kann das Produkt\n",
    "\n",
    "$$ \\left( a + \\mathrm{j}b \\right) \\cdot \\mathrm{e}^{\\mathrm{j}\\phi} $$\n",
    "\n",
    "ausprobieren."
   ]
  },
  {
   "cell_type": "code",
   "execution_count": 3,
   "metadata": {
    "scrolled": false
   },
   "outputs": [
    {
     "data": {
      "application/vnd.jupyter.widget-view+json": {
       "model_id": "b0f4674d420e451982861b65eed0e81b",
       "version_major": 2,
       "version_minor": 0
      },
      "text/plain": [
       "interactive(children=(FloatSlider(value=1.0, description='a', max=1.8, min=-1.8), FloatSlider(value=1.0, descr…"
      ]
     },
     "metadata": {},
     "output_type": "display_data"
    }
   ],
   "source": [
    "interactive(plot_cplxTimesRot, a=FloatSlider(min=-1.8, max=1.8, step=0.1, value=1), b=FloatSlider(min=-1.8, max=1.8, step=0.1, value=1), phi=(-90, 450, 10))"
   ]
  },
  {
   "cell_type": "markdown",
   "metadata": {},
   "source": [
    "Komplexe Zahlen sind daher nicht nur Zahlen, die zwei Komponenten haben, sondern mit denen sich Drehungen in der Zahlenebene hervorragend beschreiben lassen.\n",
    "\n",
    "Ein weiteres Beispiel für den rotations Zusammenhang ist eine zweifache Multiplikation mit $\\mathrm{j}$.\n",
    "Nimmt man eine reelle und positive Zahl $\\underline{z}_1=a_1$ als Ausganswert, folgt\n",
    "\n",
    "$$ \\underline{z}_2 = \\underline{z}_1 \\cdot \\mathrm{j} \\cdot \\mathrm{j} = a_1 \\cdot \\sqrt{-1} \\cdot \\sqrt{-1} = a_1 \\cdot \\sqrt{-1}^2 = a_1 \\cdot (-1) = -a_1 = -\\underline{z}_1 $$\n",
    "\n",
    "was bedeutet, dass die Zahl $\\underline{z}_1$ um zweimal 90° bzw. um einmal 180° gedreht wurde."
   ]
  },
  {
   "cell_type": "markdown",
   "metadata": {},
   "source": [
    "### Komplexe Zahlen für harmonische Schwingunen\n",
    "\n",
    "Mit der Eigenschaft von komplexen Zahlen besonders Rotationen einfach angeben zu können, lassen sich die Ableitungen und Integrationen von Cosiunus- und Sinusschwingungen sehr einfach darstellen.\n",
    "Nehmen wir als Beispiel die Versorgungsspannung\n",
    "\n",
    "$$ u_0(t) = 1.5\\text{V} \\cdot \\cos{\\left( \\omega t + \\varphi_0\\right)} $$\n",
    "\n",
    "zur Hand, so können wir diese auch angeben als (vgl. Gleichung (1))\n",
    "\n",
    "$$ u_0(t) = \\Re{\\left\\lbrace 1.5\\text{V} \\cdot \\mathrm{e}^{\\mathrm{j}(\\omega t + \\varphi_0)} \\right\\rbrace} = \\Re{\\left\\lbrace 1.5\\text{V} \\cdot \\mathrm{e}^{\\mathrm{j}\\varphi_0} \\cdot \\mathrm{e}^{\\mathrm{j}\\omega t} \\right\\rbrace} $$\n",
    "\n",
    "Eine Ableitung nach der Zeit t bewirkt\n",
    "\n",
    "$$ \\frac{\\mathrm{d}u_0(t)}{\\mathrm{d}t} = \\frac{\\mathrm{d}}{\\mathrm{d}t}\\Re{\\left\\lbrace 1.5\\text{V} \\cdot \\mathrm{e}^{\\mathrm{j}\\varphi_0} \\cdot \\mathrm{e}^{\\mathrm{j}\\omega t} \\right\\rbrace} = \\Re{\\left\\lbrace 1.5\\text{V} \\cdot \\mathrm{e}^{\\mathrm{j}\\varphi_0} \\cdot \\frac{\\mathrm{d}}{\\mathrm{d}t}\\mathrm{e}^{\\mathrm{j}\\omega t} \\right\\rbrace} = \\Re{\\left\\lbrace 1.5\\text{V} \\cdot \\mathrm{e}^{\\mathrm{j}\\varphi_0} \\cdot \\mathrm{j}\\omega\\,\\mathrm{e}^{\\mathrm{j}\\omega t} \\right\\rbrace} $$\n",
    "\n",
    "und ist damit eine Multiplikation mit dem Faktor $\\mathrm{j}\\omega$.\n",
    "Abgesehen von $\\omega$ bewirkt die Multiplikation mit $\\mathrm{j}$ eine Drehung in der komplexen Zahlenebene.\n",
    "Im Grunde beschreibt dieses Prinzip, dass bei einer Ableitung eine Sinus- eine Cosinusschwingung ergibt, was lediglich eine Phasenverschiebung von 90° und Multiplikation mit der inneren Ableitung bedeutet.\n",
    "Ebenso einfach lässt sich die Integration darstellen, die dann eine Multiplikation mit $1/(\\mathrm{j}\\omega)$ ist.\n",
    "Zusammenfassend:\n",
    "\n",
    "$$ \\frac{\\mathrm{d}[\\dots]}{\\mathrm{d}t} \\rightarrow \\mathrm{j}\\omega \\cdot [\\dots]\\\\ \\int [\\dots] \\mathrm{d}t \\rightarrow \\frac{1}{\\mathrm{j}\\omega} \\cdot [\\dots] $$\n",
    "\n",
    "Es sei nochmal anzumerken, dass dieser Zusammenhang bei harmonischen, also Sinus- und Cosinusförmigen, Schwingungen gilt.\n",
    "\n",
    "### Die komplexe Wechselstromrechnung\n",
    "\n",
    "Da Ableitungen und Integrationen durch Phasenverschiebungen angegeben werden können, sind in einem elektrischen Netzwerk wie es oben gegeben ist nur noch die Beträge und Nullphasenwinkel der Ströme und Spannungen wichtig.\n",
    "Die Zeitfunktion ist je eine phasenverschobene Cosinusfunktion mit der globalen Kreisfrequenz $\\omega$.\n",
    "Die Kombination aus Betrag und Nullphasenwinkel wird komplexer Scheitelwertzeiger genannt.\n",
    "Im Fall der Versorgungsspannung ergibt sich\n",
    "\n",
    "$$ u_0(t) = \\Re{\\left\\lbrace \\underline{\\hat{u}}_0 \\cdot \\mathrm{e}^{\\mathrm{j}\\omega t} \\right\\rbrace} $$\n",
    "\n",
    "mit $ \\underline{\\hat{u}}_0 = 1.5\\text{V} \\cdot \\mathrm{e}^{\\mathrm{j}\\varphi_0} $ als dem komplexen Scheitelwertzeiger der Versorgungsspannung.\n",
    "\n",
    "Für die Bauteile in der gegebenen Schaltung lassen sich Impedanzen angeben, welche das Verhältnis zwischen Spannung und Strom komplexwertig angeben:\n",
    "\n",
    "$$ \\underline{Z}_\\text{R} = R \\text{,}\\quad \\underline{Z}_\\text{L} = \\mathrm{j}\\omega L \\text{,}\\quad \\underline{Z}_\\text{C} = \\frac{1}{\\mathrm{j}\\omega C} $$\n",
    "\n",
    "Vergleichend beginnend mit dem Strom durch die Spule ergibt sich\n",
    "\n",
    "$$ \\underline{\\hat{i}}_\\text{L} = \\frac{\\underline{\\hat{u}}_0}{\\underline{Z}} = \\frac{1.5\\text{V} \\cdot \\mathrm{e}^{\\mathrm{j}\\varphi_0}}{\\mathrm{j}\\omega L} = -\\mathrm{j}\\frac{1.5\\text{V} \\cdot \\mathrm{e}^{\\mathrm{j}\\varphi_0}}{\\omega L} = \\frac{1.5\\text{V} \\cdot \\mathrm{e}^{\\mathrm{j}(\\varphi_0 - 90°)}}{\\omega L} = 2.387\\text{A}\\,\\mathrm{e}^{-\\mathrm{j}60°}$$\n",
    "\n",
    "Die Zeitfunktion lässt sich dann durch die in Gleichung (2) angegebene Rechnung ermitteln:\n",
    "\n",
    "$$ i_\\text{L}(t) = \\Re{\\left\\lbrace \\underline{\\hat{i}}_\\text{L} \\cdot \\mathrm{e}^{\\mathrm{j}\\omega t} \\right\\rbrace} $$\n",
    "\n",
    "Im folgenden interaktiven Bild, kann man sich den Strom und die Spannung in der komplexen Zahlenebene und im Zeitbereich anziegen und die Zeit t variieren.\n",
    "Die Zeiger (oder Werte) in der komplexen Ebene sind das Produkt des komplexen Scheitelwertzeigers und $\\mathrm{e}^{\\mathrm{j}\\omega t}$, also eben dem Argument der Realteilbildung in Gleichung (2).\n",
    "Der komplexe Scheitelwertzeiger ist zum Zeitpunkt t=0 zu sehen."
   ]
  },
  {
   "cell_type": "code",
   "execution_count": 8,
   "metadata": {},
   "outputs": [
    {
     "data": {
      "application/vnd.jupyter.widget-view+json": {
       "model_id": "f50f7c25fbdc440bb0d9e66e8d7c3221",
       "version_major": 2,
       "version_minor": 0
      },
      "text/plain": [
       "interactive(children=(FloatSlider(value=5.0, description='t', max=10.0), Output()), _dom_classes=('widget-inte…"
      ]
     },
     "metadata": {},
     "output_type": "display_data"
    }
   ],
   "source": [
    "# Komplexe Scheitelwertzeiger\n",
    "u_0 = u0 * np.exp( 1j*np.deg2rad(φ0) )\n",
    "i_L = u0/(ω*L) * np.exp( 1j*np.deg2rad(φ0 - 90) )\n",
    "\n",
    "# Definition der Zeitfunktionen im Komplexen\n",
    "def u_0_t(t):\n",
    "    return u_0 * np.exp(1j*ω*t)\n",
    "\n",
    "def i_L_t(t):\n",
    "    return i_L * np.exp(1j*ω*t)\n",
    "\n",
    "# Starten der Interaktiven Darstellung\n",
    "interactive(plot_u0iL, funu=fixed(u_0_t), funi=fixed(i_L_t), t=FloatSlider(min=0, max=10, step=0.1, value=5))"
   ]
  },
  {
   "cell_type": "markdown",
   "metadata": {},
   "source": [
    "Betrachtet man nun die Serienschaltung von Widerstand R und Kondensator C, so lässt sich in diesem Fall zunächst eine gesamt Impedanz angeben als\n",
    "\n",
    "$$ \\underline{Z}_\\text{RC} = \\underline{Z}_\\text{R} + \\underline{Z}_\\text{C} = R + \\frac{1}{\\mathrm{j}\\omega C} = R - \\mathrm{j}\\frac{1}{\\omega C} $$\n",
    "\n",
    "Der Strom durch diesen Zweig ergibt sich damit zu\n",
    "\n",
    "$$ \\underline{\\hat{i}}_\\text{RC} = \\frac{\\underline{\\hat{u}}_0}{\\underline{Z}_\\text{RC}} = \\frac{1.5\\text{V} \\cdot \\mathrm{e}^{\\mathrm{j}\\varphi_0}}{R - \\mathrm{j}\\frac{1}{\\omega C}} $$"
   ]
  },
  {
   "cell_type": "code",
   "execution_count": 5,
   "metadata": {},
   "outputs": [
    {
     "name": "stdout",
     "output_type": "stream",
     "text": [
      "i_RC = 0.060A + j 1.595A\n",
      "i_RC = 1.596A * exp(j 87.858°)\n"
     ]
    }
   ],
   "source": [
    "i_RC = u_0 / ( R - 1j/(ω*C) )\n",
    "print(\"i_RC = {:.3f}A + j {:.3f}A\".format(np.real(i_RC), np.imag(i_RC)))\n",
    "print(\"i_RC = {:.3f}A * exp(j {:.3f}°)\".format(np.abs(i_RC), np.rad2deg(np.angle(i_RC))))"
   ]
  },
  {
   "cell_type": "markdown",
   "metadata": {},
   "source": [
    "Damit ergeben sich für die Spannungen an Widerstand und Kondensator\n",
    "\n",
    "$$ \\underline{\\hat{u}}_\\text{R} = \\underline{Z}_\\text{R}\\cdot\\underline{\\hat{i}}_\\text{RC} = R \\cdot \\underline{\\hat{i}}_\\text{RC} \\\\\n",
    "\\underline{\\hat{u}}_\\text{C} = \\underline{Z}_\\text{R}\\cdot\\underline{\\hat{i}}_\\text{RC} = -\\mathrm{j}\\frac{1}{\\omega C}\\cdot\\underline{\\hat{i}}_\\text{RC} $$"
   ]
  },
  {
   "cell_type": "code",
   "execution_count": 6,
   "metadata": {},
   "outputs": [
    {
     "name": "stdout",
     "output_type": "stream",
     "text": [
      "u_R = 0.030A + j 0.797A\n",
      "u_R = 0.798A * exp(j 87.858°)\n",
      "\n",
      "u_C = 1.269A + j -0.047A\n",
      "u_C = 1.270A * exp(j -2.142°)\n"
     ]
    }
   ],
   "source": [
    "u_R = R * i_RC\n",
    "u_C = -1j/(ω*C) * i_RC\n",
    "print(\"u_R = {:.3f}A + j {:.3f}A\".format(np.real(u_R), np.imag(u_R)))\n",
    "print(\"u_R = {:.3f}A * exp(j {:.3f}°)\".format(np.abs(u_R), np.rad2deg(np.angle(u_R))))\n",
    "print(\"\")\n",
    "print(\"u_C = {:.3f}A + j {:.3f}A\".format(np.real(u_C), np.imag(u_C)))\n",
    "print(\"u_C = {:.3f}A * exp(j {:.3f}°)\".format(np.abs(u_C), np.rad2deg(np.angle(u_C))))"
   ]
  },
  {
   "cell_type": "code",
   "execution_count": 9,
   "metadata": {},
   "outputs": [
    {
     "data": {
      "application/vnd.jupyter.widget-view+json": {
       "model_id": "28c07f361ded43b3a2798a07670c49f9",
       "version_major": 2,
       "version_minor": 0
      },
      "text/plain": [
       "interactive(children=(FloatSlider(value=5.0, description='t', max=10.0), Output()), _dom_classes=('widget-inte…"
      ]
     },
     "metadata": {},
     "output_type": "display_data"
    }
   ],
   "source": [
    "plot_u0iRCuCuR\n",
    "\n",
    "\n",
    "# Definition der Zeitfunktionen im Komplexen\n",
    "def i_RC_t(t):\n",
    "    return i_L * np.exp(1j*ω*t)\n",
    "\n",
    "def u_R_t(t):\n",
    "    return u_R * np.exp(1j*ω*t)\n",
    "\n",
    "def u_C_t(t):\n",
    "    return u_C * np.exp(1j*ω*t)\n",
    "\n",
    "# Starten der Interaktiven Darstellung\n",
    "interactive(plot_u0iRCuCuR, funu0=fixed(u_0_t), funiRC=fixed(i_L_t), funuR=fixed(u_R_t), funuC=fixed(u_C_t), t=FloatSlider(min=0, max=10, step=0.1, value=5))"
   ]
  },
  {
   "cell_type": "markdown",
   "metadata": {},
   "source": [
    "Mit diesem Ergebnis ist das Netzwerk vollständig beschrieben.\n",
    "\n",
    "## Zusammenfassend\n",
    "\n",
    "Mit hilfe der komplexen Zahlen lassen sich die Ableitungen und Integration, welche bei den Bauteilen Spule und Kondensator erforderlich werden, sehr einfach durch Multiplikationen mit der komplexen Einheit j darstellen, da bei harmonischen Zeitfunktionen diese sich lediglich durch eine Phasenverschiebung nach einer Integration oder Ableitung unterscheiden.\n",
    "Es ist daher völlig ausreichend die Beträge und Phasen der Ströme und Spannungen zu wissen bzw. zu berechnen."
   ]
  },
  {
   "cell_type": "code",
   "execution_count": null,
   "metadata": {},
   "outputs": [],
   "source": []
  }
 ],
 "metadata": {
  "kernelspec": {
   "display_name": "Python 3",
   "language": "python",
   "name": "python3"
  },
  "language_info": {
   "codemirror_mode": {
    "name": "ipython",
    "version": 3
   },
   "file_extension": ".py",
   "mimetype": "text/x-python",
   "name": "python",
   "nbconvert_exporter": "python",
   "pygments_lexer": "ipython3",
   "version": "3.7.7"
  }
 },
 "nbformat": 4,
 "nbformat_minor": 4
}
