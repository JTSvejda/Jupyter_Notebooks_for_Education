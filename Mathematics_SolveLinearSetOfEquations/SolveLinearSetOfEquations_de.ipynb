{
 "cells": [
  {
   "cell_type": "markdown",
   "metadata": {},
   "source": [
    "# Einfaches Beispiel zum lösen von linearen Gleichungssystemen in Python\n",
    "\n",
    "## Rein numerisch via numpy"
   ]
  },
  {
   "cell_type": "code",
   "execution_count": 1,
   "metadata": {},
   "outputs": [],
   "source": [
    "import numpy as np"
   ]
  },
  {
   "cell_type": "code",
   "execution_count": 2,
   "metadata": {},
   "outputs": [
    {
     "name": "stdout",
     "output_type": "stream",
     "text": [
      "YK:\n",
      "[[ 3.  -1.  -0.5 -0.5]\n",
      " [-1.   3.  -1.  -0.5]\n",
      " [-0.5 -1.   3.  -1. ]\n",
      " [-0.5 -0.5 -1.   3. ]]\n",
      "uq:\n",
      "[[10.+3.j]\n",
      " [ 0.+0.j]\n",
      " [ 0.+0.j]\n",
      " [ 5.+0.j]]\n"
     ]
    }
   ],
   "source": [
    "# Durch Netzwerk gegeben, wobei G bereits verrechnet wurde:\n",
    "YK = np.array([[3,-1,-1/2,-1/2],[-1,3,-1,-1/2],[-1/2,-1,3,-1],[-1/2,-1/2,-1,3]])\n",
    "print(\"YK:\\n\" + str(YK))\n",
    "\n",
    "iq = np.array([[10+3j],[0],[0],[5]])\n",
    "print(\"uq:\\n\" + str(iq))"
   ]
  },
  {
   "cell_type": "code",
   "execution_count": 3,
   "metadata": {},
   "outputs": [
    {
     "name": "stdout",
     "output_type": "stream",
     "text": [
      "inv_YK:\n",
      "[[0.50909091 0.29090909 0.25454545 0.21818182]\n",
      " [0.29090909 0.58181818 0.32727273 0.25454545]\n",
      " [0.25454545 0.32727273 0.58181818 0.29090909]\n",
      " [0.21818182 0.25454545 0.29090909 0.50909091]]\n"
     ]
    }
   ],
   "source": [
    "# Bestimmung der inversen Matrix\n",
    "inv_YK = np.linalg.inv(YK)\n",
    "print(\"inv_YK:\\n\" + str(inv_YK))"
   ]
  },
  {
   "cell_type": "code",
   "execution_count": 4,
   "metadata": {},
   "outputs": [
    {
     "name": "stdout",
     "output_type": "stream",
     "text": [
      "phi:\n",
      "[[6.18181818+1.52727273j]\n",
      " [4.18181818+0.87272727j]\n",
      " [4.        +0.76363636j]\n",
      " [4.72727273+0.65454545j]]\n"
     ]
    }
   ],
   "source": [
    "# Berechnung der gesuchten Größen\n",
    "phi = inv_YK.dot(iq)\n",
    "print(\"phi:\\n\" + str(phi))"
   ]
  },
  {
   "cell_type": "markdown",
   "metadata": {},
   "source": [
    "## Symbolisch via sympy"
   ]
  },
  {
   "cell_type": "code",
   "execution_count": 5,
   "metadata": {},
   "outputs": [],
   "source": [
    "import sympy as sp"
   ]
  },
  {
   "cell_type": "code",
   "execution_count": 6,
   "metadata": {},
   "outputs": [],
   "source": [
    "# Symbol definition für alle variablen Größen\n",
    "p1, p2, p3, p4 = sp.symbols('p1:5')\n",
    "uq1, uq2 = sp.symbols('uq1:3')\n",
    "G = sp.symbols('G')"
   ]
  },
  {
   "cell_type": "code",
   "execution_count": 7,
   "metadata": {},
   "outputs": [
    {
     "name": "stdout",
     "output_type": "stream",
     "text": [
      "YK:\n",
      "⎡ 3⋅G      -G    -0.5⋅G  -0.5⋅G⎤\n",
      "⎢                              ⎥\n",
      "⎢  -G     3⋅G      -G    -0.5⋅G⎥\n",
      "⎢                              ⎥\n",
      "⎢-0.5⋅G    -G     3⋅G      -G  ⎥\n",
      "⎢                              ⎥\n",
      "⎣-0.5⋅G  -0.5⋅G    -G     3⋅G  ⎦\n",
      "siq:\n",
      "⎡G⋅uq₁⎤\n",
      "⎢     ⎥\n",
      "⎢  0  ⎥\n",
      "⎢     ⎥\n",
      "⎢  0  ⎥\n",
      "⎢     ⎥\n",
      "⎣G⋅uq₂⎦\n"
     ]
    }
   ],
   "source": [
    "# Durch Netzwerk gegeben:\n",
    "# [Der Zusatz \"_s\" dient nur der Unterscheidung zur vorherigen Methode.]\n",
    "YK_s = sp.Matrix( [[3,-1,-1/2,-1/2], [-1,3,-1,-1/2], [-1/2,-1,3,-1], [-1/2,-1/2,-1,3]] ) * G\n",
    "print(\"YK:\\n\" + sp.pretty(YK_s, use_unicode=True))\n",
    "\n",
    "iq_s = sp.Matrix( [[uq1],[0],[0],[uq2]] ) * G\n",
    "print(\"siq:\\n\" + sp.pretty(iq_s, use_unicode=True))"
   ]
  },
  {
   "cell_type": "code",
   "execution_count": 8,
   "metadata": {},
   "outputs": [
    {
     "name": "stdout",
     "output_type": "stream",
     "text": [
      "inv_YK:\n",
      "⎡0.509090909090909  0.290909090909091  0.254545454545455  0.218181818181818⎤\n",
      "⎢─────────────────  ─────────────────  ─────────────────  ─────────────────⎥\n",
      "⎢        G                  G                  G                  G        ⎥\n",
      "⎢                                                                          ⎥\n",
      "⎢0.290909090909091  0.581818181818182  0.327272727272727  0.254545454545455⎥\n",
      "⎢─────────────────  ─────────────────  ─────────────────  ─────────────────⎥\n",
      "⎢        G                  G                  G                  G        ⎥\n",
      "⎢                                                                          ⎥\n",
      "⎢0.254545454545455  0.327272727272727  0.581818181818182  0.290909090909091⎥\n",
      "⎢─────────────────  ─────────────────  ─────────────────  ─────────────────⎥\n",
      "⎢        G                  G                  G                  G        ⎥\n",
      "⎢                                                                          ⎥\n",
      "⎢0.218181818181818  0.254545454545455  0.290909090909091  0.509090909090909⎥\n",
      "⎢─────────────────  ─────────────────  ─────────────────  ─────────────────⎥\n",
      "⎣        G                  G                  G                  G        ⎦\n"
     ]
    }
   ],
   "source": [
    "# Bestimmung der inversen Matrix\n",
    "inv_YK_s = YK_s.inv()\n",
    "print(\"inv_YK:\\n\" + sp.pretty(inv_YK_s))"
   ]
  },
  {
   "cell_type": "code",
   "execution_count": 9,
   "metadata": {},
   "outputs": [
    {
     "name": "stdout",
     "output_type": "stream",
     "text": [
      "phi:\n",
      "⎡0.509090909090909⋅uq₁ + 0.218181818181818⋅uq₂⎤\n",
      "⎢                                             ⎥\n",
      "⎢0.290909090909091⋅uq₁ + 0.254545454545455⋅uq₂⎥\n",
      "⎢                                             ⎥\n",
      "⎢0.254545454545455⋅uq₁ + 0.290909090909091⋅uq₂⎥\n",
      "⎢                                             ⎥\n",
      "⎣0.218181818181818⋅uq₁ + 0.509090909090909⋅uq₂⎦\n"
     ]
    }
   ],
   "source": [
    "# Berechnung der gesuchten Größen\n",
    "phi_s = inv_YK_s * iq_s\n",
    "print(\"phi:\\n\" + sp.pretty(phi_s))"
   ]
  },
  {
   "cell_type": "code",
   "execution_count": 10,
   "metadata": {},
   "outputs": [
    {
     "name": "stdout",
     "output_type": "stream",
     "text": [
      "phi:\n",
      "{(0.509090909090909⋅uq₁ + 0.218181818181818⋅uq₂, 0.290909090909091⋅uq₁ + 0.254\n",
      "545454545455⋅uq₂, 0.254545454545455⋅uq₁ + 0.290909090909091⋅uq₂, 0.21818181818\n",
      "1818⋅uq₁ + 0.509090909090909⋅uq₂)}\n"
     ]
    }
   ],
   "source": [
    "# Alternativ beide vorherigen Schritte in einem:\n",
    "sol = sp.linsolve((YK_s, iq_s), [p1, p2, p3, p4])\n",
    "print(\"phi:\\n\" + sp.pretty(sol))"
   ]
  },
  {
   "cell_type": "code",
   "execution_count": 11,
   "metadata": {},
   "outputs": [
    {
     "name": "stdout",
     "output_type": "stream",
     "text": [
      "phi nach substitution:\n",
      "⎡6.18181818181818 + 1.52727272727273⋅ⅈ ⎤\n",
      "⎢                                      ⎥\n",
      "⎢4.18181818181818 + 0.872727272727273⋅ⅈ⎥\n",
      "⎢                                      ⎥\n",
      "⎢      4.0 + 0.763636363636364⋅ⅈ       ⎥\n",
      "⎢                                      ⎥\n",
      "⎣4.72727272727273 + 0.654545454545455⋅ⅈ⎦\n",
      "sol nach substitution:\n",
      "{(6.18181818181818 + 1.52727272727273⋅ⅈ, 4.18181818181818 + 0.872727272727273⋅\n",
      "ⅈ, 4.0 + 0.763636363636364⋅ⅈ, 4.72727272727273 + 0.654545454545455⋅ⅈ)}\n"
     ]
    }
   ],
   "source": [
    "# Numerische Werte erhält man dann durch Substitution\n",
    "phi_s_num = phi_s.subs([(uq1, 10+3j), (uq2, 5)])\n",
    "print(\"phi nach substitution:\\n\" + sp.pretty(phi_s_num, ))\n",
    "\n",
    "sol_num = sol.subs([(uq1, 10+3j), (uq2, 5)])\n",
    "print(\"sol nach substitution:\\n\" + sp.pretty(sol_num))"
   ]
  }
 ],
 "metadata": {
  "kernelspec": {
   "display_name": "Python 3",
   "language": "python",
   "name": "python3"
  },
  "language_info": {
   "codemirror_mode": {
    "name": "ipython",
    "version": 3
   },
   "file_extension": ".py",
   "mimetype": "text/x-python",
   "name": "python",
   "nbconvert_exporter": "python",
   "pygments_lexer": "ipython3",
   "version": "3.6.4"
  }
 },
 "nbformat": 4,
 "nbformat_minor": 2
}
